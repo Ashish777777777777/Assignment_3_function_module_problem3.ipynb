{
 "cells": [
  {
   "cell_type": "code",
   "execution_count": 1,
   "id": "04903b93",
   "metadata": {},
   "outputs": [
    {
     "name": "stdout",
     "output_type": "stream",
     "text": [
      "No. of Upper case characters: 3\n",
      "No. of Lower case Characters: 12\n"
     ]
    }
   ],
   "source": [
    "def count_upper_lower_case(input_string):\n",
    "    upper_case_count = 0\n",
    "    lower_case_count = 0\n",
    "\n",
    "    for char in input_string:\n",
    "        if char.isupper():\n",
    "            upper_case_count += 1\n",
    "        elif char.islower():\n",
    "            lower_case_count += 1\n",
    "\n",
    "    return upper_case_count, lower_case_count\n",
    "\n",
    "\n",
    "sample_string = 'The quick Brow Fox'\n",
    "upper_count, lower_count = count_upper_lower_case(sample_string)\n",
    "\n",
    "print(\"No. of Upper case characters:\", upper_count)\n",
    "print(\"No. of Lower case Characters:\", lower_count)\n"
   ]
  },
  {
   "cell_type": "code",
   "execution_count": null,
   "id": "a780be5a",
   "metadata": {},
   "outputs": [],
   "source": []
  }
 ],
 "metadata": {
  "kernelspec": {
   "display_name": "Python 3 (ipykernel)",
   "language": "python",
   "name": "python3"
  },
  "language_info": {
   "codemirror_mode": {
    "name": "ipython",
    "version": 3
   },
   "file_extension": ".py",
   "mimetype": "text/x-python",
   "name": "python",
   "nbconvert_exporter": "python",
   "pygments_lexer": "ipython3",
   "version": "3.10.9"
  }
 },
 "nbformat": 4,
 "nbformat_minor": 5
}
